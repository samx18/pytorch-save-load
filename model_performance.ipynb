{
 "cells": [
  {
   "cell_type": "markdown",
   "id": "4fadb3af-8309-405c-8ac0-e47bef73c4c8",
   "metadata": {
    "tags": []
   },
   "source": [
    "# PyTorch Model Performance 🔥"
   ]
  },
  {
   "cell_type": "markdown",
   "id": "b1232709-4e8b-4265-9614-9f11425b98d4",
   "metadata": {
    "tags": []
   },
   "source": [
    "## Housekeeping 🏠"
   ]
  },
  {
   "cell_type": "code",
   "execution_count": 40,
   "id": "0cfa76b4-d4ca-494c-aa89-00955a749331",
   "metadata": {},
   "outputs": [],
   "source": [
    "# Install packages as needed.\n",
    "\n",
    "# %pip install ipywidgets\n",
    "# %conda install ipykernel\n",
    "# %conda install pytorch\n",
    "# %conda install torchvision\n",
    "# %conda install torchaudio\n",
    "# %conda install torchserve\n",
    "# %conda install cudatoolkit=11.3\n",
    "# %conda install sklearn\n",
    "# %pip install transformers"
   ]
  },
  {
   "cell_type": "code",
   "execution_count": 41,
   "id": "f5e1989d-f272-4be1-b025-9fff5ff57fa3",
   "metadata": {},
   "outputs": [],
   "source": [
    "# Import packages\n",
    "import transformers\n",
    "import torch\n",
    "import torch.nn as nn"
   ]
  },
  {
   "cell_type": "markdown",
   "id": "5138b2a4-4c5c-4e2b-ac5b-b942598d0280",
   "metadata": {
    "tags": []
   },
   "source": [
    "## HuggingFace Example 🤗 "
   ]
  },
  {
   "cell_type": "markdown",
   "id": "4648acf0-e241-4564-aac9-5ce5b68b2576",
   "metadata": {
    "tags": []
   },
   "source": [
    "### Standard Approach"
   ]
  },
  {
   "cell_type": "code",
   "execution_count": 43,
   "id": "f804bc7d-d9cb-4e81-ba4e-a80abae382ac",
   "metadata": {},
   "outputs": [
    {
     "name": "stderr",
     "output_type": "stream",
     "text": [
      "Some weights of the model checkpoint at bert-base-uncased were not used when initializing BertModel: ['cls.predictions.decoder.weight', 'cls.predictions.transform.dense.weight', 'cls.predictions.transform.LayerNorm.weight', 'cls.predictions.transform.dense.bias', 'cls.seq_relationship.bias', 'cls.seq_relationship.weight', 'cls.predictions.transform.LayerNorm.bias', 'cls.predictions.bias']\n",
      "- This IS expected if you are initializing BertModel from the checkpoint of a model trained on another task or with another architecture (e.g. initializing a BertForSequenceClassification model from a BertForPreTraining model).\n",
      "- This IS NOT expected if you are initializing BertModel from the checkpoint of a model that you expect to be exactly identical (initializing a BertForSequenceClassification model from a BertForSequenceClassification model).\n"
     ]
    },
    {
     "name": "stdout",
     "output_type": "stream",
     "text": [
      "CPU times: user 1.27 s, sys: 297 ms, total: 1.57 s\n",
      "Wall time: 1.55 s\n"
     ]
    }
   ],
   "source": [
    "%%time\n",
    "bert = transformers.BertModel.from_pretrained(\"bert-base-uncased\")"
   ]
  },
  {
   "cell_type": "markdown",
   "id": "ba28c465-4ece-4fca-a582-b55367cc707d",
   "metadata": {
    "tags": []
   },
   "source": [
    "### Alternate approach"
   ]
  },
  {
   "cell_type": "code",
   "execution_count": 44,
   "id": "7e997dee-cfde-4470-b723-c4e8fe525a6e",
   "metadata": {},
   "outputs": [
    {
     "name": "stdout",
     "output_type": "stream",
     "text": [
      "CPU times: user 16.2 ms, sys: 113 ms, total: 129 ms\n",
      "Wall time: 128 ms\n"
     ]
    }
   ],
   "source": [
    "%%time\n",
    "# Load the model back in.\n",
    "bert_2 = torch.load(\"bert.pt\")"
   ]
  },
  {
   "cell_type": "markdown",
   "id": "2d779c84-a1f6-4eb4-9019-609e1fd4aef8",
   "metadata": {
    "tags": []
   },
   "source": [
    "## Diving Deep 🤿"
   ]
  },
  {
   "cell_type": "markdown",
   "id": "51c696fd-ac3e-4aa0-9495-b3a8f241d5e4",
   "metadata": {
    "tags": []
   },
   "source": [
    "_Saving and loading a model involves **serialization** during saving and **deserialization** during initialization or loading_"
   ]
  },
  {
   "cell_type": "markdown",
   "id": "24757a6a-e3b0-44ca-a157-adc47db3ca59",
   "metadata": {},
   "source": [
    "_PyTorch uses the 🐍 Python's **pickle** module to save and load the model. **Pickle** is imported automatically when you_ `import torch`"
   ]
  },
  {
   "cell_type": "markdown",
   "id": "1815836d-6001-4795-a1e9-073be52393e5",
   "metadata": {
    "tags": []
   },
   "source": [
    "### Define a Model"
   ]
  },
  {
   "cell_type": "code",
   "execution_count": 45,
   "id": "fc12a00b-f897-46f3-b882-80c2c2c1484d",
   "metadata": {},
   "outputs": [],
   "source": [
    "class NeuralNet(nn.Module):\n",
    "    def __init__(self):\n",
    "        super(NeuralNet, self).__init__()\n",
    "        \n",
    "        self.sequential = nn.Sequential(nn.Conv2d(1, 32, 5), \n",
    "                                        nn.Conv2d(32, 64, 5), \n",
    "                                        nn.Dropout(0.3))\n",
    "        self.layer1 = nn.Conv2d(64, 128, 5)\n",
    "        self.layer2 = nn.Conv2d(128, 256, 5)\n",
    "        self.fc = nn.Linear(256*34*34, 128)\n",
    "    \n",
    "    def forward(self, x):\n",
    "        \n",
    "        output = self.sequential(x)\n",
    "        output = self.layer1(output)\n",
    "        output = self.layer2(output)\n",
    "        output = output.view(output.size()[0], -1)\n",
    "        output = self.fc(output)\n",
    "        "
   ]
  },
  {
   "cell_type": "code",
   "execution_count": 46,
   "id": "ea44c5bd-7c05-4a8c-b7c6-723db89885cc",
   "metadata": {},
   "outputs": [],
   "source": [
    "# Initialize a model\n",
    "model = NeuralNet()"
   ]
  },
  {
   "cell_type": "code",
   "execution_count": 47,
   "id": "697203fe-2d1b-4d54-a6cc-5e29cd8dc675",
   "metadata": {},
   "outputs": [
    {
     "name": "stdout",
     "output_type": "stream",
     "text": [
      "NeuralNet(\n",
      "  (sequential): Sequential(\n",
      "    (0): Conv2d(1, 32, kernel_size=(5, 5), stride=(1, 1))\n",
      "    (1): Conv2d(32, 64, kernel_size=(5, 5), stride=(1, 1))\n",
      "    (2): Dropout(p=0.3, inplace=False)\n",
      "  )\n",
      "  (layer1): Conv2d(64, 128, kernel_size=(5, 5), stride=(1, 1))\n",
      "  (layer2): Conv2d(128, 256, kernel_size=(5, 5), stride=(1, 1))\n",
      "  (fc): Linear(in_features=295936, out_features=128, bias=True)\n",
      ")\n"
     ]
    }
   ],
   "source": [
    "# Print\n",
    "print(model)"
   ]
  },
  {
   "cell_type": "markdown",
   "id": "45772b4a-5040-4887-9915-4698d6169490",
   "metadata": {
    "tags": []
   },
   "source": [
    "### Saving (Standard) 💾\n",
    "Saving `state_dict`. This will serialize the model and save it"
   ]
  },
  {
   "cell_type": "code",
   "execution_count": 48,
   "id": "e38dbced-afc7-40a3-9683-a111a2f7b957",
   "metadata": {},
   "outputs": [],
   "source": [
    "torch.save(model.state_dict(), 'model1.pt')"
   ]
  },
  {
   "cell_type": "markdown",
   "id": "c460d1dc-d14a-4844-8245-6ec438fb4683",
   "metadata": {
    "tags": []
   },
   "source": [
    "#### Inside `state_dict()` 👀"
   ]
  },
  {
   "cell_type": "code",
   "execution_count": 49,
   "id": "3faf7dfa-f147-4cd5-ace9-7e84486fabcd",
   "metadata": {},
   "outputs": [
    {
     "data": {
      "text/plain": [
       "collections.OrderedDict"
      ]
     },
     "execution_count": 49,
     "metadata": {},
     "output_type": "execute_result"
    }
   ],
   "source": [
    "type(model.state_dict())"
   ]
  },
  {
   "cell_type": "code",
   "execution_count": 23,
   "id": "cc7212ec-95b9-4e0e-8f7e-00959dd568ae",
   "metadata": {},
   "outputs": [
    {
     "data": {
      "text/plain": [
       "odict_keys(['sequential.0.weight', 'sequential.0.bias', 'sequential.1.weight', 'sequential.1.bias', 'layer1.weight', 'layer1.bias', 'layer2.weight', 'layer2.bias', 'fc.weight', 'fc.bias'])"
      ]
     },
     "execution_count": 23,
     "metadata": {},
     "output_type": "execute_result"
    }
   ],
   "source": [
    "model.state_dict().keys()"
   ]
  },
  {
   "cell_type": "markdown",
   "id": "77446984-18ea-406e-813b-1447f31390b8",
   "metadata": {
    "tags": []
   },
   "source": [
    "### Loading (Standard) 🏋🏾‍♂️"
   ]
  },
  {
   "cell_type": "code",
   "execution_count": 50,
   "id": "79b7a13e-add3-4355-b493-313f4b23d280",
   "metadata": {},
   "outputs": [
    {
     "name": "stdout",
     "output_type": "stream",
     "text": [
      "CPU times: user 243 ms, sys: 43.1 ms, total: 286 ms\n",
      "Wall time: 271 ms\n"
     ]
    },
    {
     "data": {
      "text/plain": [
       "<All keys matched successfully>"
      ]
     },
     "execution_count": 50,
     "metadata": {},
     "output_type": "execute_result"
    }
   ],
   "source": [
    "%%time\n",
    "# Instantiate the model\n",
    "model_s1 = NeuralNet()\n",
    "# Load the weights\n",
    "model.load_state_dict(torch.load('model1.pt'))"
   ]
  },
  {
   "cell_type": "markdown",
   "id": "29b56261-9519-4814-b722-9412112e56f6",
   "metadata": {
    "tags": []
   },
   "source": [
    "### Saving (Alternate)  🗜\n",
    "Save the entire model along with the class using `torch.save`"
   ]
  },
  {
   "cell_type": "code",
   "execution_count": 51,
   "id": "69f8bf80-9b3e-4c85-bd03-343279c1b48c",
   "metadata": {},
   "outputs": [],
   "source": [
    "torch.save(model,'model2.pt')"
   ]
  },
  {
   "cell_type": "markdown",
   "id": "ef1bb5ca-c530-4bc1-a7ac-ea1fe40aadb7",
   "metadata": {
    "tags": []
   },
   "source": [
    "### Loading (Alternate) 🚀"
   ]
  },
  {
   "cell_type": "code",
   "execution_count": 52,
   "id": "4b457a38-1425-41b7-a26a-9f35dff88cd7",
   "metadata": {},
   "outputs": [
    {
     "name": "stdout",
     "output_type": "stream",
     "text": [
      "CPU times: user 5.14 ms, sys: 36.7 ms, total: 41.9 ms\n",
      "Wall time: 40.9 ms\n"
     ]
    }
   ],
   "source": [
    "%%time\n",
    "model_a2 = torch.load('model2.pt')"
   ]
  },
  {
   "cell_type": "code",
   "execution_count": 53,
   "id": "85cd731f-362d-4ee1-9798-f9ba47f40faa",
   "metadata": {},
   "outputs": [],
   "source": [
    "# Serialize the model we loaded in the previous code listing.\n",
    "#torch.save(bert, \"bert.pt\")"
   ]
  },
  {
   "cell_type": "markdown",
   "id": "9826e013-9a34-413f-a2c9-0998fe363984",
   "metadata": {
    "tags": []
   },
   "source": [
    "##  🗝 Takeaways"
   ]
  },
  {
   "cell_type": "markdown",
   "id": "a19ffd06-0fa6-4451-a66c-994e94228931",
   "metadata": {},
   "source": [
    "- Use the `state_dict()` method when you want to optimize for probability like federated learning\n",
    "- Use the `torch.save` method when you optimize for performance like distributed training where portability is not a constraint and resiliency is handled by other mechanisms  \n",
    "- Do a `model.eval()` after importing the weights. This will set the dropout and the normalization to eval\n"
   ]
  },
  {
   "cell_type": "code",
   "execution_count": null,
   "id": "cda148f3-1563-4e16-9d8e-d9cafd756dc2",
   "metadata": {},
   "outputs": [],
   "source": []
  }
 ],
 "metadata": {
  "kernelspec": {
   "display_name": "torch:Python",
   "language": "python",
   "name": "conda-env-torch-py"
  },
  "language_info": {
   "codemirror_mode": {
    "name": "ipython",
    "version": 3
   },
   "file_extension": ".py",
   "mimetype": "text/x-python",
   "name": "python",
   "nbconvert_exporter": "python",
   "pygments_lexer": "ipython3",
   "version": "3.9.9"
  }
 },
 "nbformat": 4,
 "nbformat_minor": 5
}
